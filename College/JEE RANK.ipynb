{
 "cells": [
  {
   "cell_type": "code",
   "execution_count": 1,
   "metadata": {},
   "outputs": [],
   "source": [
    "import numpy as np\n",
    "import pandas as pd\n",
    "import matplotlib.pyplot as plt"
   ]
  },
  {
   "cell_type": "code",
   "execution_count": 2,
   "metadata": {},
   "outputs": [
    {
     "name": "stdout",
     "output_type": "stream",
     "text": [
      "      10th Marks  12th Marks  AIEEE Rank           College\n",
      "0             90          89          98        IIT Bombay\n",
      "1             95          92         100         IIT delhi\n",
      "2             91          80         260        IIT kanpur\n",
      "3             88          85         222     IIT kharagpur\n",
      "4             89          84         600      IIT guwahati\n",
      "...          ...         ...         ...               ...\n",
      "999           86          87        1533        IIT indore\n",
      "1000          80          89         854  Netaji Subhas IT\n",
      "1001          86          87        1232        NIT trichy\n",
      "1002          78          85        1730        IIT indore\n",
      "1003          85          81        1757       BITS pilani\n",
      "\n",
      "[1004 rows x 4 columns]\n"
     ]
    }
   ],
   "source": [
    "df=pd.read_csv('pred.csv')\n",
    "df = df.drop('Year',axis = 1)\n",
    "df = df.drop('12th Division',axis = 1)\n",
    "df.describe()\n",
    "print(df)"
   ]
  },
  {
   "cell_type": "code",
   "execution_count": 3,
   "metadata": {},
   "outputs": [
    {
     "data": {
      "text/plain": [
       "10th Marks    0\n",
       "12th Marks    0\n",
       "AIEEE Rank    0\n",
       "College       0\n",
       "dtype: int64"
      ]
     },
     "execution_count": 3,
     "metadata": {},
     "output_type": "execute_result"
    }
   ],
   "source": [
    "df.isna().sum()"
   ]
  },
  {
   "cell_type": "code",
   "execution_count": 4,
   "metadata": {},
   "outputs": [],
   "source": [
    "x = df.iloc[:,:-1]\n",
    "y = df.iloc[:,-1]"
   ]
  },
  {
   "cell_type": "code",
   "execution_count": 15,
   "metadata": {},
   "outputs": [
    {
     "data": {
      "text/html": [
       "<div>\n",
       "<style scoped>\n",
       "    .dataframe tbody tr th:only-of-type {\n",
       "        vertical-align: middle;\n",
       "    }\n",
       "\n",
       "    .dataframe tbody tr th {\n",
       "        vertical-align: top;\n",
       "    }\n",
       "\n",
       "    .dataframe thead th {\n",
       "        text-align: right;\n",
       "    }\n",
       "</style>\n",
       "<table border=\"1\" class=\"dataframe\">\n",
       "  <thead>\n",
       "    <tr style=\"text-align: right;\">\n",
       "      <th></th>\n",
       "      <th>10th Marks</th>\n",
       "      <th>12th Marks</th>\n",
       "      <th>AIEEE Rank</th>\n",
       "    </tr>\n",
       "  </thead>\n",
       "  <tbody>\n",
       "    <tr>\n",
       "      <th>0</th>\n",
       "      <td>90</td>\n",
       "      <td>89</td>\n",
       "      <td>98</td>\n",
       "    </tr>\n",
       "    <tr>\n",
       "      <th>1</th>\n",
       "      <td>95</td>\n",
       "      <td>92</td>\n",
       "      <td>100</td>\n",
       "    </tr>\n",
       "    <tr>\n",
       "      <th>2</th>\n",
       "      <td>91</td>\n",
       "      <td>80</td>\n",
       "      <td>260</td>\n",
       "    </tr>\n",
       "    <tr>\n",
       "      <th>3</th>\n",
       "      <td>88</td>\n",
       "      <td>85</td>\n",
       "      <td>222</td>\n",
       "    </tr>\n",
       "    <tr>\n",
       "      <th>4</th>\n",
       "      <td>89</td>\n",
       "      <td>84</td>\n",
       "      <td>600</td>\n",
       "    </tr>\n",
       "    <tr>\n",
       "      <th>...</th>\n",
       "      <td>...</td>\n",
       "      <td>...</td>\n",
       "      <td>...</td>\n",
       "    </tr>\n",
       "    <tr>\n",
       "      <th>999</th>\n",
       "      <td>86</td>\n",
       "      <td>87</td>\n",
       "      <td>1533</td>\n",
       "    </tr>\n",
       "    <tr>\n",
       "      <th>1000</th>\n",
       "      <td>80</td>\n",
       "      <td>89</td>\n",
       "      <td>854</td>\n",
       "    </tr>\n",
       "    <tr>\n",
       "      <th>1001</th>\n",
       "      <td>86</td>\n",
       "      <td>87</td>\n",
       "      <td>1232</td>\n",
       "    </tr>\n",
       "    <tr>\n",
       "      <th>1002</th>\n",
       "      <td>78</td>\n",
       "      <td>85</td>\n",
       "      <td>1730</td>\n",
       "    </tr>\n",
       "    <tr>\n",
       "      <th>1003</th>\n",
       "      <td>85</td>\n",
       "      <td>81</td>\n",
       "      <td>1757</td>\n",
       "    </tr>\n",
       "  </tbody>\n",
       "</table>\n",
       "<p>1004 rows × 3 columns</p>\n",
       "</div>"
      ],
      "text/plain": [
       "      10th Marks  12th Marks  AIEEE Rank\n",
       "0             90          89          98\n",
       "1             95          92         100\n",
       "2             91          80         260\n",
       "3             88          85         222\n",
       "4             89          84         600\n",
       "...          ...         ...         ...\n",
       "999           86          87        1533\n",
       "1000          80          89         854\n",
       "1001          86          87        1232\n",
       "1002          78          85        1730\n",
       "1003          85          81        1757\n",
       "\n",
       "[1004 rows x 3 columns]"
      ]
     },
     "execution_count": 15,
     "metadata": {},
     "output_type": "execute_result"
    }
   ],
   "source": [
    "x"
   ]
  },
  {
   "cell_type": "code",
   "execution_count": 5,
   "metadata": {},
   "outputs": [
    {
     "data": {
      "text/plain": [
       "0             IIT Bombay\n",
       "1              IIT delhi\n",
       "2             IIT kanpur\n",
       "3          IIT kharagpur\n",
       "4           IIT guwahati\n",
       "              ...       \n",
       "999           IIT indore\n",
       "1000    Netaji Subhas IT\n",
       "1001          NIT trichy\n",
       "1002          IIT indore\n",
       "1003         BITS pilani\n",
       "Name: College, Length: 1004, dtype: object"
      ]
     },
     "execution_count": 5,
     "metadata": {},
     "output_type": "execute_result"
    }
   ],
   "source": [
    "y"
   ]
  },
  {
   "cell_type": "code",
   "execution_count": 6,
   "metadata": {},
   "outputs": [
    {
     "name": "stdout",
     "output_type": "stream",
     "text": [
      "[ 8 10 17 ... 29 14  2]\n"
     ]
    }
   ],
   "source": [
    "from sklearn.compose import ColumnTransformer\n",
    "from sklearn.preprocessing import LabelEncoder\n",
    "le= LabelEncoder()\n",
    "y = le.fit_transform(y)\n",
    "print(y)"
   ]
  },
  {
   "cell_type": "code",
   "execution_count": 7,
   "metadata": {},
   "outputs": [
    {
     "data": {
      "text/plain": [
       "RandomForestRegressor(bootstrap=True, ccp_alpha=0.0, criterion='mse',\n",
       "                      max_depth=None, max_features='auto', max_leaf_nodes=None,\n",
       "                      max_samples=None, min_impurity_decrease=0.0,\n",
       "                      min_impurity_split=None, min_samples_leaf=1,\n",
       "                      min_samples_split=2, min_weight_fraction_leaf=0.0,\n",
       "                      n_estimators=50, n_jobs=None, oob_score=False,\n",
       "                      random_state=42, verbose=0, warm_start=False)"
      ]
     },
     "execution_count": 7,
     "metadata": {},
     "output_type": "execute_result"
    }
   ],
   "source": [
    "from sklearn.ensemble import RandomForestRegressor\n",
    "rfr = RandomForestRegressor(n_estimators=50,random_state=42)\n",
    "rfr.fit(x,y)"
   ]
  },
  {
   "cell_type": "code",
   "execution_count": 8,
   "metadata": {},
   "outputs": [
    {
     "name": "stdout",
     "output_type": "stream",
     "text": [
      "[[ 8.12  8.  ]\n",
      " [ 9.58 10.  ]\n",
      " [16.64 17.  ]\n",
      " ...\n",
      " [29.   29.  ]\n",
      " [14.   14.  ]\n",
      " [ 2.    2.  ]]\n"
     ]
    }
   ],
   "source": [
    "y_pred = rfr.predict(x)\n",
    "np.set_printoptions(precision=2)\n",
    "print(np.concatenate((y_pred.reshape(len(y_pred),1),y.reshape(len(y),1)),1))"
   ]
  },
  {
   "cell_type": "code",
   "execution_count": 9,
   "metadata": {},
   "outputs": [
    {
     "data": {
      "text/html": [
       "<div>\n",
       "<style scoped>\n",
       "    .dataframe tbody tr th:only-of-type {\n",
       "        vertical-align: middle;\n",
       "    }\n",
       "\n",
       "    .dataframe tbody tr th {\n",
       "        vertical-align: top;\n",
       "    }\n",
       "\n",
       "    .dataframe thead th {\n",
       "        text-align: right;\n",
       "    }\n",
       "</style>\n",
       "<table border=\"1\" class=\"dataframe\">\n",
       "  <thead>\n",
       "    <tr style=\"text-align: right;\">\n",
       "      <th></th>\n",
       "      <th>10th Marks</th>\n",
       "      <th>12th Marks</th>\n",
       "      <th>AIEEE Rank</th>\n",
       "    </tr>\n",
       "  </thead>\n",
       "  <tbody>\n",
       "    <tr>\n",
       "      <th>0</th>\n",
       "      <td>90</td>\n",
       "      <td>89</td>\n",
       "      <td>98</td>\n",
       "    </tr>\n",
       "    <tr>\n",
       "      <th>1</th>\n",
       "      <td>95</td>\n",
       "      <td>92</td>\n",
       "      <td>100</td>\n",
       "    </tr>\n",
       "    <tr>\n",
       "      <th>2</th>\n",
       "      <td>91</td>\n",
       "      <td>80</td>\n",
       "      <td>260</td>\n",
       "    </tr>\n",
       "    <tr>\n",
       "      <th>3</th>\n",
       "      <td>88</td>\n",
       "      <td>85</td>\n",
       "      <td>222</td>\n",
       "    </tr>\n",
       "    <tr>\n",
       "      <th>4</th>\n",
       "      <td>89</td>\n",
       "      <td>84</td>\n",
       "      <td>600</td>\n",
       "    </tr>\n",
       "    <tr>\n",
       "      <th>...</th>\n",
       "      <td>...</td>\n",
       "      <td>...</td>\n",
       "      <td>...</td>\n",
       "    </tr>\n",
       "    <tr>\n",
       "      <th>999</th>\n",
       "      <td>86</td>\n",
       "      <td>87</td>\n",
       "      <td>1533</td>\n",
       "    </tr>\n",
       "    <tr>\n",
       "      <th>1000</th>\n",
       "      <td>80</td>\n",
       "      <td>89</td>\n",
       "      <td>854</td>\n",
       "    </tr>\n",
       "    <tr>\n",
       "      <th>1001</th>\n",
       "      <td>86</td>\n",
       "      <td>87</td>\n",
       "      <td>1232</td>\n",
       "    </tr>\n",
       "    <tr>\n",
       "      <th>1002</th>\n",
       "      <td>78</td>\n",
       "      <td>85</td>\n",
       "      <td>1730</td>\n",
       "    </tr>\n",
       "    <tr>\n",
       "      <th>1003</th>\n",
       "      <td>85</td>\n",
       "      <td>81</td>\n",
       "      <td>1757</td>\n",
       "    </tr>\n",
       "  </tbody>\n",
       "</table>\n",
       "<p>1004 rows × 3 columns</p>\n",
       "</div>"
      ],
      "text/plain": [
       "      10th Marks  12th Marks  AIEEE Rank\n",
       "0             90          89          98\n",
       "1             95          92         100\n",
       "2             91          80         260\n",
       "3             88          85         222\n",
       "4             89          84         600\n",
       "...          ...         ...         ...\n",
       "999           86          87        1533\n",
       "1000          80          89         854\n",
       "1001          86          87        1232\n",
       "1002          78          85        1730\n",
       "1003          85          81        1757\n",
       "\n",
       "[1004 rows x 3 columns]"
      ]
     },
     "execution_count": 9,
     "metadata": {},
     "output_type": "execute_result"
    }
   ],
   "source": [
    "x"
   ]
  },
  {
   "cell_type": "code",
   "execution_count": 10,
   "metadata": {},
   "outputs": [
    {
     "name": "stdout",
     "output_type": "stream",
     "text": [
      "6.603392446999342\n",
      "2.5697066850127745\n",
      "0.9485258424890993\n"
     ]
    }
   ],
   "source": [
    "\n",
    "import sklearn.metrics as met\n",
    "mse = met.mean_squared_error(y,y_pred)\n",
    "rmse = np.sqrt(mse)\n",
    "r2_score = met.r2_score(y,y_pred)\n",
    "print(mse)\n",
    "print(rmse)\n",
    "print(r2_score)"
   ]
  },
  {
   "cell_type": "code",
   "execution_count": 11,
   "metadata": {},
   "outputs": [
    {
     "data": {
      "text/plain": [
       "array([ 8, 10, 17, ..., 29, 14,  2])"
      ]
     },
     "execution_count": 11,
     "metadata": {},
     "output_type": "execute_result"
    }
   ],
   "source": [
    "y"
   ]
  },
  {
   "cell_type": "code",
   "execution_count": 13,
   "metadata": {},
   "outputs": [
    {
     "name": "stdout",
     "output_type": "stream",
     "text": [
      "IIT INDORE\n"
     ]
    }
   ],
   "source": [
    "c=rfr.predict([[86,89,4563]])\n",
    "l=int(c)\n",
    "o=round(l)\n",
    "if o==8:\n",
    "    print(\"IIT BOMBAY\")\n",
    "if o==10:\n",
    "    print(\"IIT DELHI\")\n",
    "if o==17:\n",
    "    print(\"IIT KANPUR\")\n",
    "if o==18:\n",
    "    print(\"IIT KHARAGPUR\")\n",
    "if o==12:\n",
    "    print(\"IIT GUWAHATI\")\n",
    "if o==13:\n",
    "    print(\"IIT HYDRABAD\")\n",
    "if o==32:\n",
    "    print(\"Netaji Subhas IT\")\n",
    "if o==29:\n",
    "    print(\"NIT TRICHY\")\n",
    "if o==14:\n",
    "    print(\"IIT INDORE\")\n",
    "if o==2:\n",
    "    print(\"BITS PILANI\")\n",
    "if o==23:\n",
    "    print(\"JADAVPUR UNIVERSITY\")\n",
    "if o==37:\n",
    "    print(\"VIT VELLORE\")\n",
    "if o==4:\n",
    "    print(\"DTU Delhi\")\n",
    "if o==21:\n",
    "    print(\"IIT ROPAR\")\n",
    "if o==19:\n",
    "    print(\"IIT MANDI\")\n",
    "if o==7:\n",
    "    print(\"IIIT HYDRABAD\")\n",
    "if o==30:\n",
    "    print(\"NIT WARANGAL\")\n",
    "if o==22:\n",
    "    print(\"IIT TIRUPATI\")\n",
    "if o==5:\n",
    "    print(\"HBUT KANPUR\")\n",
    "if o==26:\n",
    "    print(\"MNNIT ALLAHABAD\")\n",
    "if o==11:\n",
    "    print(\"IIT GOA\")\n",
    "if o==28:\n",
    "    print(\"MANIPAL IT\")\n",
    "if o==20:\n",
    "    print(\"IIT PALAKKAD\")\n",
    "if o==0:\n",
    "    print(\"AHEMEDABAD IT\")\n",
    "if o==33:\n",
    "    print(\"SOA UNIVERSITY\")\n",
    "if o==34:\n",
    "    print(\"SRM CHENNAI\")\n",
    "if o==9:\n",
    "    print(\"IIT BHILLAI\")\n",
    "if o==15:\n",
    "    print(\"IIT JAMMU\")\n",
    "if o==31:\n",
    "    print(\"NMIMS\")\n",
    "if o==16:\n",
    "    print(\"IIT JODHPUR\")\n",
    "if o==35:\n",
    "    print(\"SSN college of ENGG\")\n",
    "if o==6:\n",
    "    print(\"IIEST SHIBPUR\")\n",
    "if o==24:\n",
    "    print(\"KLEF HYDRABAD\")\n",
    "if o==36:\n",
    "    print(\"UNIVERSITY COLLEGE OF ENGG\")\n",
    "if o==1:\n",
    "    print(\"BIT MESRA\")\n",
    "if o==25:\n",
    "    print(\"MNIT JAIPUR\")\n",
    "if o==3:\n",
    "    print(\"BMS COLLEGE OF ENGG\")\n",
    "if o==27:\n",
    "    print(\"MSIT\")"
   ]
  },
  {
   "cell_type": "code",
   "execution_count": 14,
   "metadata": {},
   "outputs": [
    {
     "data": {
      "text/plain": [
       "0.9485258424890993"
      ]
     },
     "execution_count": 14,
     "metadata": {},
     "output_type": "execute_result"
    }
   ],
   "source": [
    "acc=rfr.score(x,y)\n",
    "acc"
   ]
  }
 ],
 "metadata": {
  "kernelspec": {
   "display_name": "Python 3",
   "language": "python",
   "name": "python3"
  },
  "language_info": {
   "codemirror_mode": {
    "name": "ipython",
    "version": 3
   },
   "file_extension": ".py",
   "mimetype": "text/x-python",
   "name": "python",
   "nbconvert_exporter": "python",
   "pygments_lexer": "ipython3",
   "version": "3.7.6"
  }
 },
 "nbformat": 4,
 "nbformat_minor": 4
}
